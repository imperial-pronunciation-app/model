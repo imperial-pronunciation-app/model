{
 "cells": [
  {
   "cell_type": "code",
   "execution_count": 1,
   "metadata": {},
   "outputs": [
    {
     "name": "stderr",
     "output_type": "stream",
     "text": [
      "/Users/henrytsyu/imperial/segp/model/venv/lib/python3.12/site-packages/tqdm/auto.py:21: TqdmWarning: IProgress not found. Please update jupyter and ipywidgets. See https://ipywidgets.readthedocs.io/en/stable/user_install.html\n",
      "  from .autonotebook import tqdm as notebook_tqdm\n"
     ]
    },
    {
     "data": {
      "text/plain": [
       "DatasetDict({\n",
       "    train: Dataset({\n",
       "        features: ['file', 'audio', 'text', 'phonetic_detail', 'word_detail', 'dialect_region', 'sentence_type', 'speaker_id', 'id'],\n",
       "        num_rows: 4620\n",
       "    })\n",
       "    test: Dataset({\n",
       "        features: ['file', 'audio', 'text', 'phonetic_detail', 'word_detail', 'dialect_region', 'sentence_type', 'speaker_id', 'id'],\n",
       "        num_rows: 1680\n",
       "    })\n",
       "})"
      ]
     },
     "execution_count": 1,
     "metadata": {},
     "output_type": "execute_result"
    }
   ],
   "source": [
    "from datasets import load_dataset, DatasetDict\n",
    "\n",
    "timit = DatasetDict()\n",
    "\n",
    "timit[\"train\"] = load_dataset(\"timit_asr\", data_dir=\"./timit\", split=\"train\")\n",
    "timit[\"test\"] = load_dataset(\"timit_asr\", data_dir=\"./timit\", split=\"test\")\n",
    "\n",
    "timit"
   ]
  },
  {
   "cell_type": "code",
   "execution_count": 2,
   "metadata": {},
   "outputs": [],
   "source": [
    "model_name = \"openai/whisper-tiny.en\""
   ]
  },
  {
   "cell_type": "code",
   "execution_count": 3,
   "metadata": {},
   "outputs": [],
   "source": [
    "from transformers import WhisperFeatureExtractor\n",
    "\n",
    "feature_extractor = WhisperFeatureExtractor.from_pretrained(model_name)"
   ]
  },
  {
   "cell_type": "code",
   "execution_count": 4,
   "metadata": {},
   "outputs": [],
   "source": [
    "from transformers import WhisperTokenizerFast\n",
    "\n",
    "tokenizer = WhisperTokenizerFast(\n",
    "    tokenizer_file=\"tokenizer/tokenizer.json\",\n",
    ")"
   ]
  },
  {
   "cell_type": "code",
   "execution_count": 6,
   "metadata": {},
   "outputs": [
    {
     "data": {
      "text/plain": [
       "{'file': '/Users/henrytsyu/imperial/segp/model/timit/data/TRAIN/DR1/FCJF0/SA1.WAV',\n",
       " 'audio': {'path': '/Users/henrytsyu/imperial/segp/model/timit/data/TRAIN/DR1/FCJF0/SA1.WAV',\n",
       "  'array': array([ 3.05175781e-05, -3.05175781e-05,  6.10351562e-05, ...,\n",
       "         -3.05175781e-05, -1.52587891e-04, -2.44140625e-04]),\n",
       "  'sampling_rate': 16000},\n",
       " 'text': 'She had your dark suit in greasy wash water all year.',\n",
       " 'phonetic_detail': {'start': [0,\n",
       "   3050,\n",
       "   4559,\n",
       "   5723,\n",
       "   6642,\n",
       "   8772,\n",
       "   9190,\n",
       "   10337,\n",
       "   11517,\n",
       "   12500,\n",
       "   12640,\n",
       "   14714,\n",
       "   15870,\n",
       "   16334,\n",
       "   18088,\n",
       "   20417,\n",
       "   21199,\n",
       "   22560,\n",
       "   22920,\n",
       "   23271,\n",
       "   24229,\n",
       "   25566,\n",
       "   27156,\n",
       "   28064,\n",
       "   29660,\n",
       "   31719,\n",
       "   33360,\n",
       "   33754,\n",
       "   34715,\n",
       "   36080,\n",
       "   36326,\n",
       "   37556,\n",
       "   39561,\n",
       "   40313,\n",
       "   42059,\n",
       "   43479,\n",
       "   44586],\n",
       "  'stop': [3050,\n",
       "   4559,\n",
       "   5723,\n",
       "   6642,\n",
       "   8772,\n",
       "   9190,\n",
       "   10337,\n",
       "   11517,\n",
       "   12500,\n",
       "   12640,\n",
       "   14714,\n",
       "   15870,\n",
       "   16334,\n",
       "   18088,\n",
       "   20417,\n",
       "   21199,\n",
       "   22560,\n",
       "   22920,\n",
       "   23271,\n",
       "   24229,\n",
       "   25566,\n",
       "   27156,\n",
       "   28064,\n",
       "   29660,\n",
       "   31719,\n",
       "   33360,\n",
       "   33754,\n",
       "   34715,\n",
       "   36080,\n",
       "   36326,\n",
       "   37556,\n",
       "   39561,\n",
       "   40313,\n",
       "   42059,\n",
       "   43479,\n",
       "   44586,\n",
       "   46720],\n",
       "  'utterance': ['h#',\n",
       "   'sh',\n",
       "   'ix',\n",
       "   'hv',\n",
       "   'eh',\n",
       "   'dcl',\n",
       "   'jh',\n",
       "   'ih',\n",
       "   'dcl',\n",
       "   'd',\n",
       "   'ah',\n",
       "   'kcl',\n",
       "   'k',\n",
       "   's',\n",
       "   'ux',\n",
       "   'q',\n",
       "   'en',\n",
       "   'gcl',\n",
       "   'g',\n",
       "   'r',\n",
       "   'ix',\n",
       "   's',\n",
       "   'ix',\n",
       "   'w',\n",
       "   'ao',\n",
       "   'sh',\n",
       "   'epi',\n",
       "   'w',\n",
       "   'ao',\n",
       "   'dx',\n",
       "   'axr',\n",
       "   'ao',\n",
       "   'l',\n",
       "   'y',\n",
       "   'ih',\n",
       "   'axr',\n",
       "   'h#']},\n",
       " 'word_detail': {'start': [3050,\n",
       "   5723,\n",
       "   9190,\n",
       "   11517,\n",
       "   16334,\n",
       "   21199,\n",
       "   22560,\n",
       "   28064,\n",
       "   33754,\n",
       "   37556,\n",
       "   40313],\n",
       "  'stop': [5723,\n",
       "   10337,\n",
       "   11517,\n",
       "   16334,\n",
       "   21199,\n",
       "   22560,\n",
       "   28064,\n",
       "   33360,\n",
       "   37556,\n",
       "   40313,\n",
       "   44586],\n",
       "  'utterance': ['she',\n",
       "   'had',\n",
       "   'your',\n",
       "   'dark',\n",
       "   'suit',\n",
       "   'in',\n",
       "   'greasy',\n",
       "   'wash',\n",
       "   'water',\n",
       "   'all',\n",
       "   'year']},\n",
       " 'dialect_region': 'DR1',\n",
       " 'sentence_type': 'SA',\n",
       " 'speaker_id': 'CJF0',\n",
       " 'id': 'SA1'}"
      ]
     },
     "execution_count": 6,
     "metadata": {},
     "output_type": "execute_result"
    }
   ],
   "source": [
    "# Ensure sampling rate is 16kHz\n",
    "timit[\"train\"][0]"
   ]
  },
  {
   "cell_type": "code",
   "execution_count": 7,
   "metadata": {},
   "outputs": [],
   "source": [
    "def prepare_dataset(example):\n",
    "    # load audio data as 16kHz\n",
    "    audio = example[\"audio\"]\n",
    "\n",
    "    # compute log-Mel input features from input audio array\n",
    "    example[\"input_features\"] = feature_extractor(audio[\"array\"], sampling_rate=audio[\"sampling_rate\"]).input_features[0]\n",
    "\n",
    "    # encode target text to label ids\n",
    "    example[\"labels\"] = tokenizer(\" \".join(example[\"phonetic_detail\"][\"utterance\"])).input_ids\n",
    "    return example"
   ]
  },
  {
   "cell_type": "code",
   "execution_count": 8,
   "metadata": {},
   "outputs": [
    {
     "name": "stderr",
     "output_type": "stream",
     "text": [
      "Map: 100%|██████████| 1680/1680 [00:06<00:00, 265.94 examples/s]\n"
     ]
    }
   ],
   "source": [
    "timit_clean = timit.map(prepare_dataset, remove_columns=timit.column_names[\"train\"], num_proc=1)"
   ]
  },
  {
   "cell_type": "code",
   "execution_count": 9,
   "metadata": {},
   "outputs": [
    {
     "name": "stdout",
     "output_type": "stream",
     "text": [
      "Number of trainable parameters: 29551872\n"
     ]
    },
    {
     "data": {
      "text/plain": [
       "WhisperForConditionalGeneration(\n",
       "  (model): WhisperModel(\n",
       "    (encoder): WhisperEncoder(\n",
       "      (conv1): Conv1d(80, 384, kernel_size=(3,), stride=(1,), padding=(1,))\n",
       "      (conv2): Conv1d(384, 384, kernel_size=(3,), stride=(2,), padding=(1,))\n",
       "      (embed_positions): Embedding(1500, 384)\n",
       "      (layers): ModuleList(\n",
       "        (0-3): 4 x WhisperEncoderLayer(\n",
       "          (self_attn): WhisperSdpaAttention(\n",
       "            (k_proj): Linear(in_features=384, out_features=384, bias=False)\n",
       "            (v_proj): Linear(in_features=384, out_features=384, bias=True)\n",
       "            (q_proj): Linear(in_features=384, out_features=384, bias=True)\n",
       "            (out_proj): Linear(in_features=384, out_features=384, bias=True)\n",
       "          )\n",
       "          (self_attn_layer_norm): LayerNorm((384,), eps=1e-05, elementwise_affine=True)\n",
       "          (activation_fn): GELUActivation()\n",
       "          (fc1): Linear(in_features=384, out_features=1536, bias=True)\n",
       "          (fc2): Linear(in_features=1536, out_features=384, bias=True)\n",
       "          (final_layer_norm): LayerNorm((384,), eps=1e-05, elementwise_affine=True)\n",
       "        )\n",
       "      )\n",
       "      (layer_norm): LayerNorm((384,), eps=1e-05, elementwise_affine=True)\n",
       "    )\n",
       "    (decoder): WhisperDecoder(\n",
       "      (embed_tokens): Embedding(77, 384, padding_idx=0)\n",
       "      (embed_positions): WhisperPositionalEmbedding(448, 384)\n",
       "      (layers): ModuleList(\n",
       "        (0-3): 4 x WhisperDecoderLayer(\n",
       "          (self_attn): WhisperSdpaAttention(\n",
       "            (k_proj): Linear(in_features=384, out_features=384, bias=False)\n",
       "            (v_proj): Linear(in_features=384, out_features=384, bias=True)\n",
       "            (q_proj): Linear(in_features=384, out_features=384, bias=True)\n",
       "            (out_proj): Linear(in_features=384, out_features=384, bias=True)\n",
       "          )\n",
       "          (activation_fn): GELUActivation()\n",
       "          (self_attn_layer_norm): LayerNorm((384,), eps=1e-05, elementwise_affine=True)\n",
       "          (encoder_attn): WhisperSdpaAttention(\n",
       "            (k_proj): Linear(in_features=384, out_features=384, bias=False)\n",
       "            (v_proj): Linear(in_features=384, out_features=384, bias=True)\n",
       "            (q_proj): Linear(in_features=384, out_features=384, bias=True)\n",
       "            (out_proj): Linear(in_features=384, out_features=384, bias=True)\n",
       "          )\n",
       "          (encoder_attn_layer_norm): LayerNorm((384,), eps=1e-05, elementwise_affine=True)\n",
       "          (fc1): Linear(in_features=384, out_features=1536, bias=True)\n",
       "          (fc2): Linear(in_features=1536, out_features=384, bias=True)\n",
       "          (final_layer_norm): LayerNorm((384,), eps=1e-05, elementwise_affine=True)\n",
       "        )\n",
       "      )\n",
       "      (layer_norm): LayerNorm((384,), eps=1e-05, elementwise_affine=True)\n",
       "    )\n",
       "  )\n",
       "  (proj_out): Linear(in_features=384, out_features=77, bias=False)\n",
       ")"
      ]
     },
     "execution_count": 9,
     "metadata": {},
     "output_type": "execute_result"
    }
   ],
   "source": [
    "from transformers import WhisperForConditionalGeneration\n",
    "\n",
    "model = WhisperForConditionalGeneration.from_pretrained(model_name)\n",
    "model.train()\n",
    "model.freeze_encoder()\n",
    "model.get_decoder().embed_tokens.num_embeddings = tokenizer.vocab_size\n",
    "model.get_decoder().embed_tokens.padding_idx = tokenizer.pad_token_type_id\n",
    "model.proj_out.out_features = tokenizer.vocab_size\n",
    "model.config.pad_token_id = tokenizer.pad_token_type_id\n",
    "\n",
    "# You can verify parameters that will be updated\n",
    "trainable_params = sum(p.numel() for p in model.parameters() if p.requires_grad)\n",
    "print(f\"Number of trainable parameters: {trainable_params}\")\n",
    "\n",
    "model\n"
   ]
  },
  {
   "cell_type": "code",
   "execution_count": 10,
   "metadata": {},
   "outputs": [
    {
     "data": {
      "text/plain": [
       "DatasetDict({\n",
       "    train: Dataset({\n",
       "        features: ['input_features', 'labels'],\n",
       "        num_rows: 4620\n",
       "    })\n",
       "    test: Dataset({\n",
       "        features: ['input_features', 'labels'],\n",
       "        num_rows: 1680\n",
       "    })\n",
       "})"
      ]
     },
     "execution_count": 10,
     "metadata": {},
     "output_type": "execute_result"
    }
   ],
   "source": [
    "timit_clean"
   ]
  },
  {
   "cell_type": "code",
   "execution_count": 11,
   "metadata": {},
   "outputs": [],
   "source": [
    "import torch\n",
    "\n",
    "from dataclasses import dataclass\n",
    "from typing import Dict, List, Union\n",
    "\n",
    "@dataclass\n",
    "class DataCollatorSpeechSeq2SeqWithPadding:\n",
    "    feature_extractor: WhisperFeatureExtractor\n",
    "    tokenizer: WhisperTokenizerFast\n",
    "    decoder_start_token_id: int\n",
    "\n",
    "    def __call__(self, features: List[Dict[str, Union[List[int], torch.Tensor]]]) -> Dict[str, torch.Tensor]:\n",
    "        # split inputs and labels since they have to be of different lengths and need different padding methods\n",
    "        # first treat the audio inputs by simply returning torch tensors\n",
    "        input_features = [{\"input_features\": feature[\"input_features\"]} for feature in features]\n",
    "        batch = self.feature_extractor.pad(input_features, return_tensors=\"pt\")\n",
    "\n",
    "        # get the tokenized label sequences\n",
    "        label_features = [{\"input_ids\": feature[\"labels\"]} for feature in features]\n",
    "        # pad the labels to max length\n",
    "        labels_batch = self.tokenizer.pad(label_features, return_tensors=\"pt\")\n",
    "\n",
    "        # replace padding with -100 to ignore loss correctly\n",
    "        labels = labels_batch[\"input_ids\"].masked_fill(labels_batch.attention_mask.ne(1), -100)\n",
    "\n",
    "        # if bos token is appended in previous tokenization step,\n",
    "        # cut bos token here as it's append later anyways\n",
    "        if (labels[:, 0] == self.decoder_start_token_id).all().cpu().item():\n",
    "            labels = labels[:, 1:]\n",
    "\n",
    "        batch[\"labels\"] = labels\n",
    "\n",
    "        return batch\n"
   ]
  },
  {
   "cell_type": "code",
   "execution_count": 12,
   "metadata": {},
   "outputs": [],
   "source": [
    "data_collator = DataCollatorSpeechSeq2SeqWithPadding(\n",
    "    feature_extractor=feature_extractor,\n",
    "    tokenizer=tokenizer,\n",
    "    decoder_start_token_id=model.config.decoder_start_token_id,\n",
    ")"
   ]
  },
  {
   "cell_type": "code",
   "execution_count": 13,
   "metadata": {},
   "outputs": [],
   "source": [
    "import evaluate\n",
    "\n",
    "metric = evaluate.load(\"wer\")"
   ]
  },
  {
   "cell_type": "code",
   "execution_count": 14,
   "metadata": {},
   "outputs": [],
   "source": [
    "def compute_metrics(pred):\n",
    "    pred_ids = pred.predictions\n",
    "    label_ids = pred.label_ids\n",
    "\n",
    "    # replace -100 with the pad_token_id\n",
    "    label_ids[label_ids == -100] = tokenizer.pad_token_type_id\n",
    "\n",
    "    # we do not want to group tokens when computing the metrics\n",
    "    pred_str = tokenizer.batch_decode(pred_ids, skip_special_tokens=True)\n",
    "    label_str = tokenizer.batch_decode(label_ids, skip_special_tokens=True)\n",
    "\n",
    "    wer = 100 * metric.compute(predictions=pred_str, references=label_str)\n",
    "\n",
    "    return {\"wer\": wer}\n"
   ]
  },
  {
   "cell_type": "code",
   "execution_count": 15,
   "metadata": {},
   "outputs": [],
   "source": [
    "from transformers import Seq2SeqTrainingArguments\n",
    "\n",
    "training_args = Seq2SeqTrainingArguments(\n",
    "    output_dir=f\"./{model_name}-timit\",\n",
    "    per_device_train_batch_size=16,\n",
    "    gradient_accumulation_steps=1,  # increase by 2x for every 2x decrease in batch size\n",
    "    learning_rate=1e-3,\n",
    "    warmup_steps=2,\n",
    "    max_steps=10,\n",
    "    gradient_checkpointing=True,\n",
    "    fp16=False,\n",
    "    eval_strategy=\"steps\",\n",
    "    per_device_eval_batch_size=8,\n",
    "    predict_with_generate=True,\n",
    "    generation_max_length=225,\n",
    "    save_steps=10,\n",
    "    eval_steps=100,\n",
    "    logging_steps=25,\n",
    "    load_best_model_at_end=False,\n",
    "    metric_for_best_model=\"wer\",\n",
    "    greater_is_better=False,\n",
    "    push_to_hub=False,\n",
    ")"
   ]
  },
  {
   "cell_type": "code",
   "execution_count": 16,
   "metadata": {},
   "outputs": [],
   "source": [
    "from transformers import Seq2SeqTrainer\n",
    "\n",
    "trainer = Seq2SeqTrainer(\n",
    "    args=training_args,\n",
    "    model=model,\n",
    "    train_dataset=timit_clean[\"train\"],\n",
    "    eval_dataset=timit_clean[\"test\"],\n",
    "    data_collator=data_collator,\n",
    "    compute_metrics=compute_metrics,\n",
    ")"
   ]
  },
  {
   "cell_type": "code",
   "execution_count": 17,
   "metadata": {},
   "outputs": [
    {
     "name": "stderr",
     "output_type": "stream",
     "text": [
      "You're using a WhisperTokenizerFast tokenizer. Please note that with a fast tokenizer, using the `__call__` method is faster than using a method to encode the text followed by a call to the `pad` method to get a padded encoding.\n",
      "/Users/henrytsyu/imperial/segp/model/venv/lib/python3.12/site-packages/torch/utils/checkpoint.py:87: UserWarning: None of the inputs have requires_grad=True. Gradients will be None\n",
      "  warnings.warn(\n",
      "Passing a tuple of `past_key_values` is deprecated and will be removed in Transformers v4.43.0. You should pass an instance of `EncoderDecoderCache` instead, e.g. `past_key_values=EncoderDecoderCache.from_legacy_cache(past_key_values)`.\n",
      "`use_cache = True` is incompatible with gradient checkpointing. Setting `use_cache = False`...\n"
     ]
    },
    {
     "data": {
      "text/html": [
       "\n",
       "    <div>\n",
       "      \n",
       "      <progress value='10' max='10' style='width:300px; height:20px; vertical-align: middle;'></progress>\n",
       "      [10/10 00:09, Epoch 0/1]\n",
       "    </div>\n",
       "    <table border=\"1\" class=\"dataframe\">\n",
       "  <thead>\n",
       " <tr style=\"text-align: left;\">\n",
       "      <th>Step</th>\n",
       "      <th>Training Loss</th>\n",
       "      <th>Validation Loss</th>\n",
       "    </tr>\n",
       "  </thead>\n",
       "  <tbody>\n",
       "  </tbody>\n",
       "</table><p>"
      ],
      "text/plain": [
       "<IPython.core.display.HTML object>"
      ]
     },
     "metadata": {},
     "output_type": "display_data"
    },
    {
     "name": "stderr",
     "output_type": "stream",
     "text": [
      "/Users/henrytsyu/imperial/segp/model/venv/lib/python3.12/site-packages/transformers/modeling_utils.py:2758: UserWarning: Moving the following attributes in the config to the generation config: {'max_length': 448, 'suppress_tokens': [1, 2, 7, 8, 9, 10, 14, 25, 26, 27, 28, 29, 31, 58, 59, 60, 61, 62, 63, 90, 91, 92, 93, 357, 366, 438, 532, 685, 705, 796, 930, 1058, 1220, 1267, 1279, 1303, 1343, 1377, 1391, 1635, 1782, 1875, 2162, 2361, 2488, 3467, 4008, 4211, 4600, 4808, 5299, 5855, 6329, 7203, 9609, 9959, 10563, 10786, 11420, 11709, 11907, 13163, 13697, 13700, 14808, 15306, 16410, 16791, 17992, 19203, 19510, 20724, 22305, 22935, 27007, 30109, 30420, 33409, 34949, 40283, 40493, 40549, 47282, 49146, 50257, 50357, 50358, 50359, 50360, 50361]}. You are seeing this warning because you've set generation parameters in the model config, as opposed to in the generation config.\n",
      "  warnings.warn(\n"
     ]
    },
    {
     "data": {
      "text/plain": [
       "TrainOutput(global_step=10, training_loss=6.252825927734375, metrics={'train_runtime': 10.9784, 'train_samples_per_second': 14.574, 'train_steps_per_second': 0.911, 'total_flos': 3939021619200000.0, 'train_loss': 6.252825927734375, 'epoch': 0.03460207612456748})"
      ]
     },
     "execution_count": 17,
     "metadata": {},
     "output_type": "execute_result"
    }
   ],
   "source": [
    "trainer.train()"
   ]
  },
  {
   "cell_type": "code",
   "execution_count": 23,
   "metadata": {},
   "outputs": [
    {
     "data": {
      "text/plain": [
       "'k k k k k k k k k k k k k k k k k k k k k k k k k k k k k k k k k k k k k k k k k k k k k k k k k k k k k k k k k k k k k k k k k k k k k k k k k k k k k k k k k k k k k k k k k k k k k k k k k k k k k k k k k k k k k k k k k k k k k k k k k k k k k k k k k k k k k k k k k k k k k k k k k k k k k k k k k k k k k k k k k k k k k k k k k k k k k k k k k k k k k k k k k k k k k k k k k k k k k k k k k k k k k k k k k k k k k k k k k k k k k k k k k k k k k k k k k k k k k k k k k k k k k k k k k k k k k k k k k k k k k k k k k k k k k k k k k k k k k k k k k k k k k k k k k k k k k k k k k k k k k k k k k k k k k k k k k k k k k k k k k k k k k k k k k k k k k k k k k k k k k k k k k k k k k k k k k k k k k k k k k k k k k k k k k k k k k k k k k k k k k k k k k k k k k k k k k k k k k k k k k k k k k k k k k k k k k k k k k k k k k k k k k k k k k k k k k k k k k k k k k k k k k k'"
      ]
     },
     "execution_count": 23,
     "metadata": {},
     "output_type": "execute_result"
    }
   ],
   "source": [
    "input_features = torch.tensor(timit_clean[\"test\"][0][\"input_features\"]).unsqueeze(0)\n",
    "\n",
    "model_trained = WhisperForConditionalGeneration.from_pretrained(training_args.output_dir + \"/checkpoint-10\")\n",
    "\n",
    "generated_ids = model_trained.generate(input_features=input_features)\n",
    "\n",
    "transcription = tokenizer.batch_decode(generated_ids, skip_special_tokens=True)[0]\n",
    "transcription"
   ]
  },
  {
   "cell_type": "code",
   "execution_count": 24,
   "metadata": {},
   "outputs": [
    {
     "data": {
      "text/plain": [
       "['h#',\n",
       " 'sh',\n",
       " 'iy',\n",
       " 'hv',\n",
       " 'ae',\n",
       " 'dcl',\n",
       " 'd',\n",
       " 'y',\n",
       " 'er',\n",
       " 'dcl',\n",
       " 'd',\n",
       " 'aa',\n",
       " 'r',\n",
       " 'kcl',\n",
       " 'k',\n",
       " 's',\n",
       " 'uw',\n",
       " 'dx',\n",
       " 'ih',\n",
       " 'ng',\n",
       " 'gcl',\n",
       " 'g',\n",
       " 'r',\n",
       " 'iy',\n",
       " 's',\n",
       " 'iy',\n",
       " 'w',\n",
       " 'aa',\n",
       " 'sh',\n",
       " 'epi',\n",
       " 'w',\n",
       " 'aa',\n",
       " 'dx',\n",
       " 'er',\n",
       " 'q',\n",
       " 'ao',\n",
       " 'l',\n",
       " 'y',\n",
       " 'iy',\n",
       " 'axr',\n",
       " 'h#']"
      ]
     },
     "execution_count": 24,
     "metadata": {},
     "output_type": "execute_result"
    }
   ],
   "source": [
    "timit[\"test\"][0][\"phonetic_detail\"][\"utterance\"]"
   ]
  }
 ],
 "metadata": {
  "kernelspec": {
   "display_name": "venv",
   "language": "python",
   "name": "python3"
  },
  "language_info": {
   "codemirror_mode": {
    "name": "ipython",
    "version": 3
   },
   "file_extension": ".py",
   "mimetype": "text/x-python",
   "name": "python",
   "nbconvert_exporter": "python",
   "pygments_lexer": "ipython3",
   "version": "3.12.8"
  }
 },
 "nbformat": 4,
 "nbformat_minor": 2
}
